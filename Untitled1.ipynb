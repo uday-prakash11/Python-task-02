{
 "cells": [
  {
   "cell_type": "markdown",
   "id": "ebbc3002",
   "metadata": {},
   "source": [
    "1. Write a Python program to calculate the difference between a given number and 17. If the number is greater than 17, return twice the absolute difference. "
   ]
  },
  {
   "cell_type": "code",
   "execution_count": 5,
   "id": "fb220d52",
   "metadata": {},
   "outputs": [
    {
     "name": "stdout",
     "output_type": "stream",
     "text": [
      "10\n",
      "3\n"
     ]
    }
   ],
   "source": [
    "def differ(n):\n",
    "    if n<17:\n",
    "        return (17-n)\n",
    "    else:\n",
    "        return (n-17)*2\n",
    "\n",
    "\n",
    "res1=differ(22)\n",
    "print(res1)\n",
    "res2=differ(14)\n",
    "print(res2)"
   ]
  },
  {
   "cell_type": "markdown",
   "id": "da4ee001",
   "metadata": {},
   "source": [
    " 2. Write a program to check if a year is leap year or not."
   ]
  },
  {
   "cell_type": "code",
   "execution_count": 6,
   "id": "80a40bba",
   "metadata": {},
   "outputs": [
    {
     "name": "stdout",
     "output_type": "stream",
     "text": [
      "Enter the year: 2024\n",
      "2024 is a leap year\n"
     ]
    }
   ],
   "source": [
    "year = int(input(\"Enter the year: \"))\n",
    "\n",
    "if year % 4 == 0:\n",
    "    if year % 100 == 0:\n",
    "        if year % 400 == 0:\n",
    "            print(year, \"is a leap year\")\n",
    "        else:\n",
    "            print(year, \"is not a leap year\")\n",
    "    else:\n",
    "        print(year, \"is a leap year\")\n",
    "else:\n",
    "    print(year, \"is not a leap year\")\n"
   ]
  },
  {
   "cell_type": "markdown",
   "id": "ee78eb97",
   "metadata": {},
   "source": [
    "3. Write a Python program to sum three given integers. However, if two values are equal, the sum will be zero."
   ]
  },
  {
   "cell_type": "code",
   "execution_count": 9,
   "id": "47e6776f",
   "metadata": {},
   "outputs": [
    {
     "name": "stdout",
     "output_type": "stream",
     "text": [
      "6\n"
     ]
    }
   ],
   "source": [
    "def sum_three(num1, num2, num3):\n",
    "    if num1 == num2 or num1 == num3 or num2 == num3:\n",
    "        return 0\n",
    "    else:\n",
    "        return num1 + num2 + num3\n",
    "\n",
    "print(sum_three(1, 2, 3))   # Output: 6\n"
   ]
  },
  {
   "cell_type": "markdown",
   "id": "178fdb00",
   "metadata": {},
   "source": [
    " 4. Write a Python program to convert a month name to a number of days."
   ]
  },
  {
   "cell_type": "code",
   "execution_count": 13,
   "id": "c0389898",
   "metadata": {},
   "outputs": [
    {
     "name": "stdout",
     "output_type": "stream",
     "text": [
      "Enter the month name: February\n",
      "February has 28 days.\n"
     ]
    }
   ],
   "source": [
    "def get_days_in_month(month):\n",
    "    month_days = {\n",
    "        'January': 31,\n",
    "        'February': 28,\n",
    "        'March': 31,\n",
    "        'April': 30,\n",
    "        'May': 31,\n",
    "        'June': 30,\n",
    "        'July': 31,\n",
    "        'August': 31,\n",
    "        'September': 30,\n",
    "        'October': 31,\n",
    "        'November': 30,\n",
    "        'December': 31\n",
    "    }\n",
    "    return month_days.get(month, None)\n",
    "\n",
    "month_name = input(\"Enter the month name: \")\n",
    "days = get_days_in_month(month_name)\n",
    "\n",
    "if days:\n",
    "    print(f\"{month_name} has {days} days.\")\n",
    "else:\n",
    "    print(\"Invalid month name.\")\n"
   ]
  },
  {
   "cell_type": "markdown",
   "id": "5692c037",
   "metadata": {},
   "source": [
    "5. Write a Python program to check if a triangle is equilateral, isosceles or scalene."
   ]
  },
  {
   "cell_type": "code",
   "execution_count": 19,
   "id": "04686680",
   "metadata": {},
   "outputs": [
    {
     "name": "stdout",
     "output_type": "stream",
     "text": [
      "Isosceles triangle\n"
     ]
    }
   ],
   "source": [
    "def triangle_type(a, b, c):\n",
    "    if a == b == c:\n",
    "        return \"Equilateral triangle\"\n",
    "    elif a == b or b == c or c == a:\n",
    "        return \"Isosceles triangle\"\n",
    "    else:\n",
    "        return \"Scalene triangle\"\n",
    "\n",
    "# example \n",
    "print(triangle_type(5, 7, 5))  # output: \"Isosceles triangle\""
   ]
  }
 ],
 "metadata": {
  "kernelspec": {
   "display_name": "Python 3 (ipykernel)",
   "language": "python",
   "name": "python3"
  },
  "language_info": {
   "codemirror_mode": {
    "name": "ipython",
    "version": 3
   },
   "file_extension": ".py",
   "mimetype": "text/x-python",
   "name": "python",
   "nbconvert_exporter": "python",
   "pygments_lexer": "ipython3",
   "version": "3.9.12"
  }
 },
 "nbformat": 4,
 "nbformat_minor": 5
}
